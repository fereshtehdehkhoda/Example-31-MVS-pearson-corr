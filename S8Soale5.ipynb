{
  "cells": [
    {
      "cell_type": "markdown",
      "metadata": {
        "id": "view-in-github",
        "colab_type": "text"
      },
      "source": [
        "<a href=\"https://colab.research.google.com/github/fereshtehdehkhoda/Example-31-MVS-pearson-corr/blob/main/S8Soale5.ipynb\" target=\"_parent\"><img src=\"https://colab.research.google.com/assets/colab-badge.svg\" alt=\"Open In Colab\"/></a>"
      ]
    },
    {
      "cell_type": "code",
      "execution_count": null,
      "id": "d4c7e479-d9e3-48e4-a5c7-441af2e50ba5",
      "metadata": {
        "id": "d4c7e479-d9e3-48e4-a5c7-441af2e50ba5"
      },
      "outputs": [],
      "source": [
        "#در دیتافریم زیر، مقادیر گمشده را با میانگین هر ستون جایگزین و ضریب همبستگی پیرسون بین x و y را برآورد کنید.\n"
      ]
    },
    {
      "cell_type": "code",
      "execution_count": null,
      "id": "236f0e68-e962-44e6-ab11-11f00070a3d8",
      "metadata": {
        "id": "236f0e68-e962-44e6-ab11-11f00070a3d8"
      },
      "outputs": [],
      "source": [
        "import pandas as pd\n",
        "import pandas as np"
      ]
    },
    {
      "cell_type": "code",
      "execution_count": null,
      "id": "02755601-21d3-414f-9741-c99317ab9477",
      "metadata": {
        "id": "02755601-21d3-414f-9741-c99317ab9477"
      },
      "outputs": [],
      "source": [
        "data=pd.read_csv(\"s8 soale 5.csv\")"
      ]
    },
    {
      "cell_type": "code",
      "execution_count": null,
      "id": "11655c0e-aa37-4000-92f2-491a9d1be2b7",
      "metadata": {
        "id": "11655c0e-aa37-4000-92f2-491a9d1be2b7",
        "outputId": "c805f1df-fb0f-4f27-e9a5-fb53df6f37d1"
      },
      "outputs": [
        {
          "data": {
            "text/html": [
              "<div>\n",
              "<style scoped>\n",
              "    .dataframe tbody tr th:only-of-type {\n",
              "        vertical-align: middle;\n",
              "    }\n",
              "\n",
              "    .dataframe tbody tr th {\n",
              "        vertical-align: top;\n",
              "    }\n",
              "\n",
              "    .dataframe thead th {\n",
              "        text-align: right;\n",
              "    }\n",
              "</style>\n",
              "<table border=\"1\" class=\"dataframe\">\n",
              "  <thead>\n",
              "    <tr style=\"text-align: right;\">\n",
              "      <th></th>\n",
              "      <th>x</th>\n",
              "      <th>y</th>\n",
              "    </tr>\n",
              "  </thead>\n",
              "  <tbody>\n",
              "    <tr>\n",
              "      <th>0</th>\n",
              "      <td>12.1</td>\n",
              "      <td>0.20</td>\n",
              "    </tr>\n",
              "    <tr>\n",
              "      <th>1</th>\n",
              "      <td>14.0</td>\n",
              "      <td>0.41</td>\n",
              "    </tr>\n",
              "    <tr>\n",
              "      <th>2</th>\n",
              "      <td>NaN</td>\n",
              "      <td>0.32</td>\n",
              "    </tr>\n",
              "    <tr>\n",
              "      <th>3</th>\n",
              "      <td>10.0</td>\n",
              "      <td>0.19</td>\n",
              "    </tr>\n",
              "    <tr>\n",
              "      <th>4</th>\n",
              "      <td>2.0</td>\n",
              "      <td>0.05</td>\n",
              "    </tr>\n",
              "    <tr>\n",
              "      <th>5</th>\n",
              "      <td>23.0</td>\n",
              "      <td>0.67</td>\n",
              "    </tr>\n",
              "    <tr>\n",
              "      <th>6</th>\n",
              "      <td>NaN</td>\n",
              "      <td>0.11</td>\n",
              "    </tr>\n",
              "    <tr>\n",
              "      <th>7</th>\n",
              "      <td>15.0</td>\n",
              "      <td>0.32</td>\n",
              "    </tr>\n",
              "    <tr>\n",
              "      <th>8</th>\n",
              "      <td>7.0</td>\n",
              "      <td>NaN</td>\n",
              "    </tr>\n",
              "    <tr>\n",
              "      <th>9</th>\n",
              "      <td>11.0</td>\n",
              "      <td>0.23</td>\n",
              "    </tr>\n",
              "  </tbody>\n",
              "</table>\n",
              "</div>"
            ],
            "text/plain": [
              "      x     y\n",
              "0  12.1  0.20\n",
              "1  14.0  0.41\n",
              "2   NaN  0.32\n",
              "3  10.0  0.19\n",
              "4   2.0  0.05\n",
              "5  23.0  0.67\n",
              "6   NaN  0.11\n",
              "7  15.0  0.32\n",
              "8   7.0   NaN\n",
              "9  11.0  0.23"
            ]
          },
          "execution_count": 5,
          "metadata": {},
          "output_type": "execute_result"
        }
      ],
      "source": [
        "data"
      ]
    },
    {
      "cell_type": "code",
      "execution_count": null,
      "id": "927e8d0b-77f2-481a-b89a-0a20b6168cc5",
      "metadata": {
        "id": "927e8d0b-77f2-481a-b89a-0a20b6168cc5"
      },
      "outputs": [],
      "source": [
        "data[\"x\"]=data[\"x\"].fillna(data[\"x\"].mean())\n",
        "data[\"y\"]=data[\"y\"].fillna(data[\"y\"].mean())"
      ]
    },
    {
      "cell_type": "code",
      "execution_count": null,
      "id": "b39c80de-88dc-4e3e-adb2-baec83152352",
      "metadata": {
        "id": "b39c80de-88dc-4e3e-adb2-baec83152352",
        "outputId": "64e25807-03dd-47ff-c45c-bf175816c0cf"
      },
      "outputs": [
        {
          "data": {
            "text/html": [
              "<div>\n",
              "<style scoped>\n",
              "    .dataframe tbody tr th:only-of-type {\n",
              "        vertical-align: middle;\n",
              "    }\n",
              "\n",
              "    .dataframe tbody tr th {\n",
              "        vertical-align: top;\n",
              "    }\n",
              "\n",
              "    .dataframe thead th {\n",
              "        text-align: right;\n",
              "    }\n",
              "</style>\n",
              "<table border=\"1\" class=\"dataframe\">\n",
              "  <thead>\n",
              "    <tr style=\"text-align: right;\">\n",
              "      <th></th>\n",
              "      <th>x</th>\n",
              "      <th>y</th>\n",
              "    </tr>\n",
              "  </thead>\n",
              "  <tbody>\n",
              "    <tr>\n",
              "      <th>0</th>\n",
              "      <td>12.1000</td>\n",
              "      <td>0.200000</td>\n",
              "    </tr>\n",
              "    <tr>\n",
              "      <th>1</th>\n",
              "      <td>14.0000</td>\n",
              "      <td>0.410000</td>\n",
              "    </tr>\n",
              "    <tr>\n",
              "      <th>2</th>\n",
              "      <td>11.7625</td>\n",
              "      <td>0.320000</td>\n",
              "    </tr>\n",
              "    <tr>\n",
              "      <th>3</th>\n",
              "      <td>10.0000</td>\n",
              "      <td>0.190000</td>\n",
              "    </tr>\n",
              "    <tr>\n",
              "      <th>4</th>\n",
              "      <td>2.0000</td>\n",
              "      <td>0.050000</td>\n",
              "    </tr>\n",
              "    <tr>\n",
              "      <th>5</th>\n",
              "      <td>23.0000</td>\n",
              "      <td>0.670000</td>\n",
              "    </tr>\n",
              "    <tr>\n",
              "      <th>6</th>\n",
              "      <td>11.7625</td>\n",
              "      <td>0.110000</td>\n",
              "    </tr>\n",
              "    <tr>\n",
              "      <th>7</th>\n",
              "      <td>15.0000</td>\n",
              "      <td>0.320000</td>\n",
              "    </tr>\n",
              "    <tr>\n",
              "      <th>8</th>\n",
              "      <td>7.0000</td>\n",
              "      <td>0.277778</td>\n",
              "    </tr>\n",
              "    <tr>\n",
              "      <th>9</th>\n",
              "      <td>11.0000</td>\n",
              "      <td>0.230000</td>\n",
              "    </tr>\n",
              "  </tbody>\n",
              "</table>\n",
              "</div>"
            ],
            "text/plain": [
              "         x         y\n",
              "0  12.1000  0.200000\n",
              "1  14.0000  0.410000\n",
              "2  11.7625  0.320000\n",
              "3  10.0000  0.190000\n",
              "4   2.0000  0.050000\n",
              "5  23.0000  0.670000\n",
              "6  11.7625  0.110000\n",
              "7  15.0000  0.320000\n",
              "8   7.0000  0.277778\n",
              "9  11.0000  0.230000"
            ]
          },
          "execution_count": 13,
          "metadata": {},
          "output_type": "execute_result"
        }
      ],
      "source": [
        "data"
      ]
    },
    {
      "cell_type": "code",
      "execution_count": null,
      "id": "8ace7a29-7a97-414c-bd6f-ffe6d6af9964",
      "metadata": {
        "id": "8ace7a29-7a97-414c-bd6f-ffe6d6af9964",
        "outputId": "4caa40dd-755f-4ff2-84f3-8d1254b5c1ea"
      },
      "outputs": [
        {
          "data": {
            "text/html": [
              "<div>\n",
              "<style scoped>\n",
              "    .dataframe tbody tr th:only-of-type {\n",
              "        vertical-align: middle;\n",
              "    }\n",
              "\n",
              "    .dataframe tbody tr th {\n",
              "        vertical-align: top;\n",
              "    }\n",
              "\n",
              "    .dataframe thead th {\n",
              "        text-align: right;\n",
              "    }\n",
              "</style>\n",
              "<table border=\"1\" class=\"dataframe\">\n",
              "  <thead>\n",
              "    <tr style=\"text-align: right;\">\n",
              "      <th></th>\n",
              "      <th>x</th>\n",
              "      <th>y</th>\n",
              "    </tr>\n",
              "  </thead>\n",
              "  <tbody>\n",
              "    <tr>\n",
              "      <th>x</th>\n",
              "      <td>1.00</td>\n",
              "      <td>0.86</td>\n",
              "    </tr>\n",
              "    <tr>\n",
              "      <th>y</th>\n",
              "      <td>0.86</td>\n",
              "      <td>1.00</td>\n",
              "    </tr>\n",
              "  </tbody>\n",
              "</table>\n",
              "</div>"
            ],
            "text/plain": [
              "      x     y\n",
              "x  1.00  0.86\n",
              "y  0.86  1.00"
            ]
          },
          "execution_count": 21,
          "metadata": {},
          "output_type": "execute_result"
        }
      ],
      "source": [
        "peareson_corr=round(data[[\"x\",\"y\"]].corr(method='pearson'),2)\n",
        "peareson_corr"
      ]
    },
    {
      "cell_type": "code",
      "execution_count": null,
      "id": "8fa3dda4-0581-46d5-ba05-d116aeb71d70",
      "metadata": {
        "id": "8fa3dda4-0581-46d5-ba05-d116aeb71d70"
      },
      "outputs": [],
      "source": []
    }
  ],
  "metadata": {
    "kernelspec": {
      "display_name": "Python 3 (ipykernel)",
      "language": "python",
      "name": "python3"
    },
    "language_info": {
      "codemirror_mode": {
        "name": "ipython",
        "version": 3
      },
      "file_extension": ".py",
      "mimetype": "text/x-python",
      "name": "python",
      "nbconvert_exporter": "python",
      "pygments_lexer": "ipython3",
      "version": "3.12.4"
    },
    "colab": {
      "provenance": [],
      "include_colab_link": true
    }
  },
  "nbformat": 4,
  "nbformat_minor": 5
}